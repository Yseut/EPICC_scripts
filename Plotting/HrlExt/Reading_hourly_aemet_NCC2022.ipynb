{
 "cells": [
  {
   "cell_type": "code",
   "execution_count": 4,
   "id": "7ef2ff9d",
   "metadata": {},
   "outputs": [],
   "source": [
    "import pandas as pd\n",
    "import numpy as np\n",
    "import json"
   ]
  },
  {
   "cell_type": "code",
   "execution_count": 5,
   "id": "9f785e6f",
   "metadata": {},
   "outputs": [],
   "source": [
    "def search(myDict, lookup):\n",
    "    matching_stns = {}\n",
    "    for key, value in myDict.items():\n",
    "        if lookup in value:\n",
    "             matching_stns[key]=value\n",
    "    if matching_stns == []:\n",
    "        raise ValueError('None of the available stations matches your choice')\n",
    "    return matching_stns"
   ]
  },
  {
   "cell_type": "code",
   "execution_count": 6,
   "id": "6f16b8d5",
   "metadata": {},
   "outputs": [],
   "source": [
    "wrk_dir = \"/Users/daniel/Desktop/hourly_aemet/\"\n",
    "with open(f'{wrk_dir}avail_stations.json', 'r') as f:\n",
    "    locs = json.load(f)"
   ]
  },
  {
   "cell_type": "code",
   "execution_count": 7,
   "id": "88923101",
   "metadata": {},
   "outputs": [],
   "source": [
    "stn_name = 'Barcelona'"
   ]
  },
  {
   "cell_type": "code",
   "execution_count": 8,
   "id": "04387f69",
   "metadata": {},
   "outputs": [],
   "source": [
    "matching_stns = search(locs,stn_name.upper())\n",
    "matching_stns_lc = search(locs,stn_name)"
   ]
  },
  {
   "cell_type": "code",
   "execution_count": null,
   "id": "89d9a073",
   "metadata": {},
   "outputs": [
    {
     "name": "stdout",
     "output_type": "stream",
     "text": [
      "Available Databases:\n",
      "1. BARCELONA/AEROPUERTO\n",
      "2. BARCELONA CMT\n",
      "3. BARCELONA  DRASSANES\n"
     ]
    }
   ],
   "source": [
    "db_list = list(matching_stns.values())+list(matching_stns_lc.values())\n",
    "print(\"Available Databases:\")\n",
    "for i, db_name in enumerate(db_list, start=1):\n",
    "    print ('{}. {}'.format(i, db_name))\n",
    "\n",
    "\n",
    "while True:\n",
    "    try:\n",
    "        selected = int(input('Select a database (1-{}): '.format(i)))\n",
    "        db_name = db_list[selected-1]\n",
    "        print('You have selected {}'.format(db_name))\n",
    "        stn_id = list(locs.keys())[list(locs.values()).index(db_name)]\n",
    "        break\n",
    "    except (ValueError, IndexError):\n",
    "        print('This is not a valid selection. Please enter number between 1 and {}!'.format(i))\n",
    "\n",
    "\n"
   ]
  },
  {
   "cell_type": "code",
   "execution_count": null,
   "id": "03f1d499",
   "metadata": {},
   "outputs": [],
   "source": [
    "{stn_id}"
   ]
  },
  {
   "cell_type": "code",
   "execution_count": 16,
   "id": "cdd52067",
   "metadata": {},
   "outputs": [],
   "source": [
    "ifile = f\"{wrk_dir}hrly_obs/{stn_id}.txt\"\n",
    "obs = pd.read_csv(ifile, index_col='datetime',parse_dates=True, sep=',',header=0, skiprows=5)"
   ]
  },
  {
   "cell_type": "code",
   "execution_count": 20,
   "id": "9b0f7bd0",
   "metadata": {},
   "outputs": [],
   "source": [
    "date_index = pd.date_range('2021-03-01','2022-03-15',freq='1H')\n",
    "obs_new = pd.DataFrame(np.ones((len(date_index),len(obs.columns)))*np.nan,columns=obs.columns)\n",
    "obs_new['datetime']=[date_index[i] for i in range(len(date_index))]\n",
    "obs_new = obs_new.set_index('datetime',drop=True)\n",
    "for nt,ntime in enumerate(obs.index):\n",
    "    for f,field in enumerate(obs_new.columns):\n",
    "        if field in obs.columns:\n",
    "            obs_new.loc[obs_new.index==ntime,field]=obs.loc[obs.index==ntime,field].values"
   ]
  },
  {
   "cell_type": "code",
   "execution_count": 21,
   "id": "8508998c",
   "metadata": {},
   "outputs": [],
   "source": [
    "prec_period  = obs_new.prec"
   ]
  },
  {
   "cell_type": "code",
   "execution_count": 33,
   "id": "a2cafd53",
   "metadata": {},
   "outputs": [],
   "source": [
    "pr_day=prec_period.resample(\"D\").sum()\n"
   ]
  },
  {
   "cell_type": "code",
   "execution_count": 36,
   "id": "964b31d9",
   "metadata": {},
   "outputs": [
    {
     "data": {
      "text/plain": [
       "datetime\n",
       "2021-11-10    27.0\n",
       "2021-11-11    36.6\n",
       "2021-11-23    40.6\n",
       "2022-03-12    22.6\n",
       "Name: prec, dtype: float64"
      ]
     },
     "execution_count": 36,
     "metadata": {},
     "output_type": "execute_result"
    }
   ],
   "source": [
    "pr_day.where(pr_day>20).dropna()"
   ]
  },
  {
   "cell_type": "code",
   "execution_count": 39,
   "id": "f50e6331",
   "metadata": {},
   "outputs": [
    {
     "data": {
      "text/plain": [
       "datetime\n",
       "2021-11-10 00:00:00    2.4\n",
       "2021-11-10 01:00:00    0.0\n",
       "2021-11-10 02:00:00    2.8\n",
       "2021-11-10 03:00:00    2.8\n",
       "2021-11-10 04:00:00    0.0\n",
       "2021-11-10 05:00:00    0.0\n",
       "2021-11-10 06:00:00    0.0\n",
       "2021-11-10 07:00:00    0.0\n",
       "2021-11-10 08:00:00    0.0\n",
       "2021-11-10 09:00:00    0.0\n",
       "2021-11-10 10:00:00    7.8\n",
       "2021-11-10 11:00:00    2.2\n",
       "2021-11-10 12:00:00    0.6\n",
       "2021-11-10 13:00:00    4.6\n",
       "2021-11-10 14:00:00    2.2\n",
       "2021-11-10 15:00:00    0.2\n",
       "2021-11-10 16:00:00    0.0\n",
       "2021-11-10 17:00:00    0.2\n",
       "2021-11-10 18:00:00    0.0\n",
       "2021-11-10 19:00:00    0.0\n",
       "2021-11-10 20:00:00    0.0\n",
       "2021-11-10 21:00:00    0.4\n",
       "2021-11-10 22:00:00    0.2\n",
       "2021-11-10 23:00:00    0.6\n",
       "Name: prec, dtype: float64"
      ]
     },
     "execution_count": 39,
     "metadata": {},
     "output_type": "execute_result"
    }
   ],
   "source": [
    "prec_period.loc['2021-11-10']"
   ]
  },
  {
   "cell_type": "code",
   "execution_count": 3,
   "id": "e8c3d840",
   "metadata": {},
   "outputs": [
    {
     "ename": "NameError",
     "evalue": "name 'obs' is not defined",
     "output_type": "error",
     "traceback": [
      "\u001b[0;31m---------------------------------------------------------------------------\u001b[0m",
      "\u001b[0;31mNameError\u001b[0m                                 Traceback (most recent call last)",
      "Input \u001b[0;32mIn [3]\u001b[0m, in \u001b[0;36m<module>\u001b[0;34m\u001b[0m\n\u001b[0;32m----> 1\u001b[0m srain \u001b[38;5;241m=\u001b[39m pd\u001b[38;5;241m.\u001b[39mSeries(\u001b[43mobs\u001b[49m)\n\u001b[1;32m      3\u001b[0m srain \u001b[38;5;241m=\u001b[39msrain\u001b[38;5;241m.\u001b[39mto_frame()\n\u001b[1;32m      4\u001b[0m srain \u001b[38;5;241m=\u001b[39m srain\u001b[38;5;241m.\u001b[39mrename(columns \u001b[38;5;241m=\u001b[39m {\u001b[38;5;241m0\u001b[39m:\u001b[38;5;124m'\u001b[39m\u001b[38;5;124mpr\u001b[39m\u001b[38;5;124m'\u001b[39m})\n",
      "\u001b[0;31mNameError\u001b[0m: name 'obs' is not defined"
     ]
    }
   ],
   "source": [
    "srain = pd.Series(obs)\n",
    "\n",
    "srain =srain.to_frame()\n",
    "srain = srain.rename(columns = {0:'pr'})\n",
    "\n",
    "srain['event_start'] = (srain['pr'].astype(bool).shift() != srain['pr'].astype(bool))\n",
    "srain['event_end'] = (srain['pr'].astype(bool).shift(-1) != srain['pr'].astype(bool))\n",
    "srain['event'] = srain['event_start'].cumsum()\n",
    "\n",
    "wet_event_intensity = srain.groupby('event')['pr'].sum()\n",
    "wet_event_duration = srain.groupby('event')['pr'].count()\n",
    "srain['event_pr'] = srain['event'].map(wet_event_intensity).where(srain['event_end'])\n",
    "srain['event_dur'] =  srain['event'].map(wet_event_duration).where(srain['event_end'])"
   ]
  },
  {
   "cell_type": "code",
   "execution_count": null,
   "id": "a529e852",
   "metadata": {},
   "outputs": [],
   "source": []
  }
 ],
 "metadata": {
  "kernelspec": {
   "display_name": "Python 3 (ipykernel)",
   "language": "python",
   "name": "python3"
  },
  "language_info": {
   "codemirror_mode": {
    "name": "ipython",
    "version": 3
   },
   "file_extension": ".py",
   "mimetype": "text/x-python",
   "name": "python",
   "nbconvert_exporter": "python",
   "pygments_lexer": "ipython3",
   "version": "3.8.5"
  }
 },
 "nbformat": 4,
 "nbformat_minor": 5
}
