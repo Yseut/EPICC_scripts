{
 "cells": [
  {
   "cell_type": "code",
   "execution_count": 2,
   "id": "9d2357dd",
   "metadata": {},
   "outputs": [],
   "source": [
    "import pandas as pd\n",
    "import datetime as dt\n",
    "import numpy as np"
   ]
  },
  {
   "cell_type": "code",
   "execution_count": null,
   "id": "b2a4ff80",
   "metadata": {},
   "outputs": [
    {
     "name": "stdout",
     "output_type": "stream",
     "text": [
      "./2019/AWS_AEMET-201901.txt\n",
      "./2019/AWS_AEMET-201902.txt\n",
      "./2019/AWS_AEMET-201903.txt\n",
      "./2019/AWS_AEMET-201904.txt\n",
      "./2019/AWS_AEMET-201905.txt\n",
      "./2019/AWS_AEMET-201906.txt\n",
      "./2019/AWS_AEMET-201907.txt\n",
      "./2019/AWS_AEMET-201908.txt\n",
      "./2019/AWS_AEMET-201909.txt\n",
      "./2019/AWS_AEMET-201910.txt\n",
      "./2019/AWS_AEMET-201911.txt\n",
      "./2019/AWS_AEMET-201912.txt\n",
      "./2020/AWS_AEMET-202001.txt\n",
      "./2020/AWS_AEMET-202002.txt\n",
      "./2020/AWS_AEMET-202003.txt\n",
      "./2020/AWS_AEMET-202004.txt\n",
      "./2020/AWS_AEMET-202005.txt\n",
      "./2020/AWS_AEMET-202006.txt\n",
      "./2020/AWS_AEMET-202007.txt\n",
      "./2020/AWS_AEMET-202008.txt\n",
      "./2020/AWS_AEMET-202009.txt\n"
     ]
    }
   ],
   "source": [
    "for year in range(2011,2021):\n",
    "    dates = pd.date_range(dt.datetime(year,1,1,0,0),dt.datetime(year,12,31,23,50),freq='10T')\n",
    "    df_prec = pd.DataFrame(columns=[''],index=dates)\n",
    "    for month in range(1,13):\n",
    "\n",
    "\n",
    "        filein = f\"./{year}/AWS_AEMET-{year}{month:02d}.txt\"\n",
    "        print(f\"{filein}\")\n",
    "        df = pd.read_csv(filein, header=0, sep=' ',na_values=-999.0,parse_dates=['DateTime'])\n",
    "        df = df.rename(columns={\"#Code\":\"stn_id\"})\n",
    "        df = df.set_index('DateTime')\n",
    "        stations = df.stn_id.unique()\n",
    "        for stat in stations:\n",
    "            if stat not in df_prec:\n",
    "                df_prec[stat]=np.nan\n",
    "            df_stat = df[df.stn_id==stat].Prec\n",
    "            df_prec = df_prec.combine_first(df_stat.to_frame().rename(columns={'Prec':stat}))\n",
    "    df_prec.to_pickle(f\"prec_10min_all_stations_{year}.pkl\")"
   ]
  },
  {
   "cell_type": "code",
   "execution_count": null,
   "id": "bd9a3f63",
   "metadata": {},
   "outputs": [],
   "source": []
  }
 ],
 "metadata": {
  "kernelspec": {
   "display_name": "Python 3",
   "language": "python",
   "name": "python3"
  },
  "language_info": {
   "codemirror_mode": {
    "name": "ipython",
    "version": 3
   },
   "file_extension": ".py",
   "mimetype": "text/x-python",
   "name": "python",
   "nbconvert_exporter": "python",
   "pygments_lexer": "ipython3",
   "version": "3.8.5"
  }
 },
 "nbformat": 4,
 "nbformat_minor": 5
}
